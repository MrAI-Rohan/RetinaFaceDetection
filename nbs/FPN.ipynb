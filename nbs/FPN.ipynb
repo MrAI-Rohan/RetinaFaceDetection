{
  "nbformat": 4,
  "nbformat_minor": 0,
  "metadata": {
    "colab": {
      "provenance": []
    },
    "kernelspec": {
      "name": "python3",
      "display_name": "Python 3"
    },
    "language_info": {
      "name": "python"
    }
  },
  "cells": [
    {
      "cell_type": "code",
      "execution_count": null,
      "metadata": {
        "id": "vM3kE4JJ4BKx"
      },
      "outputs": [],
      "source": [
        "import torch\n",
        "import torchvision\n",
        "import torch.nn as nn\n",
        "import torch.nn.functional as F\n",
        "from torchvision.tv_tensors import Image\n",
        "from torchvision.ops import DeformConv2d\n",
        "\n",
        "from typing import Tuple"
      ]
    },
    {
      "cell_type": "code",
      "source": [
        "model = torchvision.models.resnet50()"
      ],
      "metadata": {
        "id": "hFz_BAut55k4"
      },
      "execution_count": null,
      "outputs": []
    },
    {
      "cell_type": "code",
      "source": [
        "model"
      ],
      "metadata": {
        "colab": {
          "base_uri": "https://localhost:8080/"
        },
        "id": "OHnSjXV2Jq9j",
        "outputId": "1fb6b0a6-9af5-4eee-b9cf-cfcb44baeb57"
      },
      "execution_count": null,
      "outputs": [
        {
          "output_type": "execute_result",
          "data": {
            "text/plain": [
              "ResNet(\n",
              "  (conv1): Conv2d(3, 64, kernel_size=(7, 7), stride=(2, 2), padding=(3, 3), bias=False)\n",
              "  (bn1): BatchNorm2d(64, eps=1e-05, momentum=0.1, affine=True, track_running_stats=True)\n",
              "  (relu): ReLU(inplace=True)\n",
              "  (maxpool): MaxPool2d(kernel_size=3, stride=2, padding=1, dilation=1, ceil_mode=False)\n",
              "  (layer1): Sequential(\n",
              "    (0): Bottleneck(\n",
              "      (conv1): Conv2d(64, 64, kernel_size=(1, 1), stride=(1, 1), bias=False)\n",
              "      (bn1): BatchNorm2d(64, eps=1e-05, momentum=0.1, affine=True, track_running_stats=True)\n",
              "      (conv2): Conv2d(64, 64, kernel_size=(3, 3), stride=(1, 1), padding=(1, 1), bias=False)\n",
              "      (bn2): BatchNorm2d(64, eps=1e-05, momentum=0.1, affine=True, track_running_stats=True)\n",
              "      (conv3): Conv2d(64, 256, kernel_size=(1, 1), stride=(1, 1), bias=False)\n",
              "      (bn3): BatchNorm2d(256, eps=1e-05, momentum=0.1, affine=True, track_running_stats=True)\n",
              "      (relu): ReLU(inplace=True)\n",
              "      (downsample): Sequential(\n",
              "        (0): Conv2d(64, 256, kernel_size=(1, 1), stride=(1, 1), bias=False)\n",
              "        (1): BatchNorm2d(256, eps=1e-05, momentum=0.1, affine=True, track_running_stats=True)\n",
              "      )\n",
              "    )\n",
              "    (1): Bottleneck(\n",
              "      (conv1): Conv2d(256, 64, kernel_size=(1, 1), stride=(1, 1), bias=False)\n",
              "      (bn1): BatchNorm2d(64, eps=1e-05, momentum=0.1, affine=True, track_running_stats=True)\n",
              "      (conv2): Conv2d(64, 64, kernel_size=(3, 3), stride=(1, 1), padding=(1, 1), bias=False)\n",
              "      (bn2): BatchNorm2d(64, eps=1e-05, momentum=0.1, affine=True, track_running_stats=True)\n",
              "      (conv3): Conv2d(64, 256, kernel_size=(1, 1), stride=(1, 1), bias=False)\n",
              "      (bn3): BatchNorm2d(256, eps=1e-05, momentum=0.1, affine=True, track_running_stats=True)\n",
              "      (relu): ReLU(inplace=True)\n",
              "    )\n",
              "    (2): Bottleneck(\n",
              "      (conv1): Conv2d(256, 64, kernel_size=(1, 1), stride=(1, 1), bias=False)\n",
              "      (bn1): BatchNorm2d(64, eps=1e-05, momentum=0.1, affine=True, track_running_stats=True)\n",
              "      (conv2): Conv2d(64, 64, kernel_size=(3, 3), stride=(1, 1), padding=(1, 1), bias=False)\n",
              "      (bn2): BatchNorm2d(64, eps=1e-05, momentum=0.1, affine=True, track_running_stats=True)\n",
              "      (conv3): Conv2d(64, 256, kernel_size=(1, 1), stride=(1, 1), bias=False)\n",
              "      (bn3): BatchNorm2d(256, eps=1e-05, momentum=0.1, affine=True, track_running_stats=True)\n",
              "      (relu): ReLU(inplace=True)\n",
              "    )\n",
              "  )\n",
              "  (layer2): Sequential(\n",
              "    (0): Bottleneck(\n",
              "      (conv1): Conv2d(256, 128, kernel_size=(1, 1), stride=(1, 1), bias=False)\n",
              "      (bn1): BatchNorm2d(128, eps=1e-05, momentum=0.1, affine=True, track_running_stats=True)\n",
              "      (conv2): Conv2d(128, 128, kernel_size=(3, 3), stride=(2, 2), padding=(1, 1), bias=False)\n",
              "      (bn2): BatchNorm2d(128, eps=1e-05, momentum=0.1, affine=True, track_running_stats=True)\n",
              "      (conv3): Conv2d(128, 512, kernel_size=(1, 1), stride=(1, 1), bias=False)\n",
              "      (bn3): BatchNorm2d(512, eps=1e-05, momentum=0.1, affine=True, track_running_stats=True)\n",
              "      (relu): ReLU(inplace=True)\n",
              "      (downsample): Sequential(\n",
              "        (0): Conv2d(256, 512, kernel_size=(1, 1), stride=(2, 2), bias=False)\n",
              "        (1): BatchNorm2d(512, eps=1e-05, momentum=0.1, affine=True, track_running_stats=True)\n",
              "      )\n",
              "    )\n",
              "    (1): Bottleneck(\n",
              "      (conv1): Conv2d(512, 128, kernel_size=(1, 1), stride=(1, 1), bias=False)\n",
              "      (bn1): BatchNorm2d(128, eps=1e-05, momentum=0.1, affine=True, track_running_stats=True)\n",
              "      (conv2): Conv2d(128, 128, kernel_size=(3, 3), stride=(1, 1), padding=(1, 1), bias=False)\n",
              "      (bn2): BatchNorm2d(128, eps=1e-05, momentum=0.1, affine=True, track_running_stats=True)\n",
              "      (conv3): Conv2d(128, 512, kernel_size=(1, 1), stride=(1, 1), bias=False)\n",
              "      (bn3): BatchNorm2d(512, eps=1e-05, momentum=0.1, affine=True, track_running_stats=True)\n",
              "      (relu): ReLU(inplace=True)\n",
              "    )\n",
              "    (2): Bottleneck(\n",
              "      (conv1): Conv2d(512, 128, kernel_size=(1, 1), stride=(1, 1), bias=False)\n",
              "      (bn1): BatchNorm2d(128, eps=1e-05, momentum=0.1, affine=True, track_running_stats=True)\n",
              "      (conv2): Conv2d(128, 128, kernel_size=(3, 3), stride=(1, 1), padding=(1, 1), bias=False)\n",
              "      (bn2): BatchNorm2d(128, eps=1e-05, momentum=0.1, affine=True, track_running_stats=True)\n",
              "      (conv3): Conv2d(128, 512, kernel_size=(1, 1), stride=(1, 1), bias=False)\n",
              "      (bn3): BatchNorm2d(512, eps=1e-05, momentum=0.1, affine=True, track_running_stats=True)\n",
              "      (relu): ReLU(inplace=True)\n",
              "    )\n",
              "    (3): Bottleneck(\n",
              "      (conv1): Conv2d(512, 128, kernel_size=(1, 1), stride=(1, 1), bias=False)\n",
              "      (bn1): BatchNorm2d(128, eps=1e-05, momentum=0.1, affine=True, track_running_stats=True)\n",
              "      (conv2): Conv2d(128, 128, kernel_size=(3, 3), stride=(1, 1), padding=(1, 1), bias=False)\n",
              "      (bn2): BatchNorm2d(128, eps=1e-05, momentum=0.1, affine=True, track_running_stats=True)\n",
              "      (conv3): Conv2d(128, 512, kernel_size=(1, 1), stride=(1, 1), bias=False)\n",
              "      (bn3): BatchNorm2d(512, eps=1e-05, momentum=0.1, affine=True, track_running_stats=True)\n",
              "      (relu): ReLU(inplace=True)\n",
              "    )\n",
              "  )\n",
              "  (layer3): Sequential(\n",
              "    (0): Bottleneck(\n",
              "      (conv1): Conv2d(512, 256, kernel_size=(1, 1), stride=(1, 1), bias=False)\n",
              "      (bn1): BatchNorm2d(256, eps=1e-05, momentum=0.1, affine=True, track_running_stats=True)\n",
              "      (conv2): Conv2d(256, 256, kernel_size=(3, 3), stride=(2, 2), padding=(1, 1), bias=False)\n",
              "      (bn2): BatchNorm2d(256, eps=1e-05, momentum=0.1, affine=True, track_running_stats=True)\n",
              "      (conv3): Conv2d(256, 1024, kernel_size=(1, 1), stride=(1, 1), bias=False)\n",
              "      (bn3): BatchNorm2d(1024, eps=1e-05, momentum=0.1, affine=True, track_running_stats=True)\n",
              "      (relu): ReLU(inplace=True)\n",
              "      (downsample): Sequential(\n",
              "        (0): Conv2d(512, 1024, kernel_size=(1, 1), stride=(2, 2), bias=False)\n",
              "        (1): BatchNorm2d(1024, eps=1e-05, momentum=0.1, affine=True, track_running_stats=True)\n",
              "      )\n",
              "    )\n",
              "    (1): Bottleneck(\n",
              "      (conv1): Conv2d(1024, 256, kernel_size=(1, 1), stride=(1, 1), bias=False)\n",
              "      (bn1): BatchNorm2d(256, eps=1e-05, momentum=0.1, affine=True, track_running_stats=True)\n",
              "      (conv2): Conv2d(256, 256, kernel_size=(3, 3), stride=(1, 1), padding=(1, 1), bias=False)\n",
              "      (bn2): BatchNorm2d(256, eps=1e-05, momentum=0.1, affine=True, track_running_stats=True)\n",
              "      (conv3): Conv2d(256, 1024, kernel_size=(1, 1), stride=(1, 1), bias=False)\n",
              "      (bn3): BatchNorm2d(1024, eps=1e-05, momentum=0.1, affine=True, track_running_stats=True)\n",
              "      (relu): ReLU(inplace=True)\n",
              "    )\n",
              "    (2): Bottleneck(\n",
              "      (conv1): Conv2d(1024, 256, kernel_size=(1, 1), stride=(1, 1), bias=False)\n",
              "      (bn1): BatchNorm2d(256, eps=1e-05, momentum=0.1, affine=True, track_running_stats=True)\n",
              "      (conv2): Conv2d(256, 256, kernel_size=(3, 3), stride=(1, 1), padding=(1, 1), bias=False)\n",
              "      (bn2): BatchNorm2d(256, eps=1e-05, momentum=0.1, affine=True, track_running_stats=True)\n",
              "      (conv3): Conv2d(256, 1024, kernel_size=(1, 1), stride=(1, 1), bias=False)\n",
              "      (bn3): BatchNorm2d(1024, eps=1e-05, momentum=0.1, affine=True, track_running_stats=True)\n",
              "      (relu): ReLU(inplace=True)\n",
              "    )\n",
              "    (3): Bottleneck(\n",
              "      (conv1): Conv2d(1024, 256, kernel_size=(1, 1), stride=(1, 1), bias=False)\n",
              "      (bn1): BatchNorm2d(256, eps=1e-05, momentum=0.1, affine=True, track_running_stats=True)\n",
              "      (conv2): Conv2d(256, 256, kernel_size=(3, 3), stride=(1, 1), padding=(1, 1), bias=False)\n",
              "      (bn2): BatchNorm2d(256, eps=1e-05, momentum=0.1, affine=True, track_running_stats=True)\n",
              "      (conv3): Conv2d(256, 1024, kernel_size=(1, 1), stride=(1, 1), bias=False)\n",
              "      (bn3): BatchNorm2d(1024, eps=1e-05, momentum=0.1, affine=True, track_running_stats=True)\n",
              "      (relu): ReLU(inplace=True)\n",
              "    )\n",
              "    (4): Bottleneck(\n",
              "      (conv1): Conv2d(1024, 256, kernel_size=(1, 1), stride=(1, 1), bias=False)\n",
              "      (bn1): BatchNorm2d(256, eps=1e-05, momentum=0.1, affine=True, track_running_stats=True)\n",
              "      (conv2): Conv2d(256, 256, kernel_size=(3, 3), stride=(1, 1), padding=(1, 1), bias=False)\n",
              "      (bn2): BatchNorm2d(256, eps=1e-05, momentum=0.1, affine=True, track_running_stats=True)\n",
              "      (conv3): Conv2d(256, 1024, kernel_size=(1, 1), stride=(1, 1), bias=False)\n",
              "      (bn3): BatchNorm2d(1024, eps=1e-05, momentum=0.1, affine=True, track_running_stats=True)\n",
              "      (relu): ReLU(inplace=True)\n",
              "    )\n",
              "    (5): Bottleneck(\n",
              "      (conv1): Conv2d(1024, 256, kernel_size=(1, 1), stride=(1, 1), bias=False)\n",
              "      (bn1): BatchNorm2d(256, eps=1e-05, momentum=0.1, affine=True, track_running_stats=True)\n",
              "      (conv2): Conv2d(256, 256, kernel_size=(3, 3), stride=(1, 1), padding=(1, 1), bias=False)\n",
              "      (bn2): BatchNorm2d(256, eps=1e-05, momentum=0.1, affine=True, track_running_stats=True)\n",
              "      (conv3): Conv2d(256, 1024, kernel_size=(1, 1), stride=(1, 1), bias=False)\n",
              "      (bn3): BatchNorm2d(1024, eps=1e-05, momentum=0.1, affine=True, track_running_stats=True)\n",
              "      (relu): ReLU(inplace=True)\n",
              "    )\n",
              "  )\n",
              "  (layer4): Sequential(\n",
              "    (0): Bottleneck(\n",
              "      (conv1): Conv2d(1024, 512, kernel_size=(1, 1), stride=(1, 1), bias=False)\n",
              "      (bn1): BatchNorm2d(512, eps=1e-05, momentum=0.1, affine=True, track_running_stats=True)\n",
              "      (conv2): Conv2d(512, 512, kernel_size=(3, 3), stride=(2, 2), padding=(1, 1), bias=False)\n",
              "      (bn2): BatchNorm2d(512, eps=1e-05, momentum=0.1, affine=True, track_running_stats=True)\n",
              "      (conv3): Conv2d(512, 2048, kernel_size=(1, 1), stride=(1, 1), bias=False)\n",
              "      (bn3): BatchNorm2d(2048, eps=1e-05, momentum=0.1, affine=True, track_running_stats=True)\n",
              "      (relu): ReLU(inplace=True)\n",
              "      (downsample): Sequential(\n",
              "        (0): Conv2d(1024, 2048, kernel_size=(1, 1), stride=(2, 2), bias=False)\n",
              "        (1): BatchNorm2d(2048, eps=1e-05, momentum=0.1, affine=True, track_running_stats=True)\n",
              "      )\n",
              "    )\n",
              "    (1): Bottleneck(\n",
              "      (conv1): Conv2d(2048, 512, kernel_size=(1, 1), stride=(1, 1), bias=False)\n",
              "      (bn1): BatchNorm2d(512, eps=1e-05, momentum=0.1, affine=True, track_running_stats=True)\n",
              "      (conv2): Conv2d(512, 512, kernel_size=(3, 3), stride=(1, 1), padding=(1, 1), bias=False)\n",
              "      (bn2): BatchNorm2d(512, eps=1e-05, momentum=0.1, affine=True, track_running_stats=True)\n",
              "      (conv3): Conv2d(512, 2048, kernel_size=(1, 1), stride=(1, 1), bias=False)\n",
              "      (bn3): BatchNorm2d(2048, eps=1e-05, momentum=0.1, affine=True, track_running_stats=True)\n",
              "      (relu): ReLU(inplace=True)\n",
              "    )\n",
              "    (2): Bottleneck(\n",
              "      (conv1): Conv2d(2048, 512, kernel_size=(1, 1), stride=(1, 1), bias=False)\n",
              "      (bn1): BatchNorm2d(512, eps=1e-05, momentum=0.1, affine=True, track_running_stats=True)\n",
              "      (conv2): Conv2d(512, 512, kernel_size=(3, 3), stride=(1, 1), padding=(1, 1), bias=False)\n",
              "      (bn2): BatchNorm2d(512, eps=1e-05, momentum=0.1, affine=True, track_running_stats=True)\n",
              "      (conv3): Conv2d(512, 2048, kernel_size=(1, 1), stride=(1, 1), bias=False)\n",
              "      (bn3): BatchNorm2d(2048, eps=1e-05, momentum=0.1, affine=True, track_running_stats=True)\n",
              "      (relu): ReLU(inplace=True)\n",
              "    )\n",
              "  )\n",
              "  (avgpool): AdaptiveAvgPool2d(output_size=(1, 1))\n",
              "  (fc): Linear(in_features=2048, out_features=1000, bias=True)\n",
              ")"
            ]
          },
          "metadata": {},
          "execution_count": 4
        }
      ]
    },
    {
      "cell_type": "code",
      "source": [
        "img = torch.randn((1, 3, 640, 640))"
      ],
      "metadata": {
        "id": "wEuHYt3tOlTL"
      },
      "execution_count": null,
      "outputs": []
    },
    {
      "cell_type": "code",
      "source": [
        "x = img\n",
        "for i, c in enumerate(model.children()):\n",
        "    if isinstance(c, torch.nn.Linear):\n",
        "        x = c(x.flatten())\n",
        "    else:\n",
        "        x = c(x)\n",
        "    print(i, x.shape)"
      ],
      "metadata": {
        "id": "mc0diqI87RKE",
        "colab": {
          "base_uri": "https://localhost:8080/"
        },
        "outputId": "26988a3c-9988-446e-8550-54598b0519e7"
      },
      "execution_count": null,
      "outputs": [
        {
          "output_type": "stream",
          "name": "stdout",
          "text": [
            "0 torch.Size([1, 64, 320, 320])\n",
            "1 torch.Size([1, 64, 320, 320])\n",
            "2 torch.Size([1, 64, 320, 320])\n",
            "3 torch.Size([1, 64, 160, 160])\n",
            "4 torch.Size([1, 256, 160, 160])\n",
            "5 torch.Size([1, 512, 80, 80])\n",
            "6 torch.Size([1, 1024, 40, 40])\n",
            "7 torch.Size([1, 2048, 20, 20])\n",
            "8 torch.Size([1, 2048, 1, 1])\n",
            "9 torch.Size([1000])\n"
          ]
        }
      ]
    },
    {
      "cell_type": "code",
      "source": [
        "backbone = nn.Sequential(*list(model.children())[:-2])"
      ],
      "metadata": {
        "id": "Ak1zDBt95zP8"
      },
      "execution_count": null,
      "outputs": []
    },
    {
      "cell_type": "code",
      "source": [
        "c2 = backbone[:5](img)\n",
        "c2.shape"
      ],
      "metadata": {
        "colab": {
          "base_uri": "https://localhost:8080/"
        },
        "id": "3dmnM6l_uibi",
        "outputId": "334d8920-1b14-4850-b6b9-490cc7a576ec"
      },
      "execution_count": null,
      "outputs": [
        {
          "output_type": "execute_result",
          "data": {
            "text/plain": [
              "torch.Size([1, 256, 160, 160])"
            ]
          },
          "metadata": {},
          "execution_count": 8
        }
      ]
    },
    {
      "cell_type": "code",
      "source": [
        "c3 = backbone[5](c2)\n",
        "c3.shape"
      ],
      "metadata": {
        "colab": {
          "base_uri": "https://localhost:8080/"
        },
        "id": "woQSWy0m32lo",
        "outputId": "4bff4679-4a7c-482e-c2b8-fdf5f75a7b9e"
      },
      "execution_count": null,
      "outputs": [
        {
          "output_type": "execute_result",
          "data": {
            "text/plain": [
              "torch.Size([1, 512, 80, 80])"
            ]
          },
          "metadata": {},
          "execution_count": 9
        }
      ]
    },
    {
      "cell_type": "code",
      "source": [
        "c4 = backbone[6](c3)\n",
        "c4.shape"
      ],
      "metadata": {
        "colab": {
          "base_uri": "https://localhost:8080/"
        },
        "id": "HrnI2sfV33lY",
        "outputId": "e5799cc9-71de-4d4a-d27a-837530d7c048"
      },
      "execution_count": null,
      "outputs": [
        {
          "output_type": "execute_result",
          "data": {
            "text/plain": [
              "torch.Size([1, 1024, 40, 40])"
            ]
          },
          "metadata": {},
          "execution_count": 10
        }
      ]
    },
    {
      "cell_type": "code",
      "source": [
        "c5 = backbone[7](c4)\n",
        "c5.shape"
      ],
      "metadata": {
        "colab": {
          "base_uri": "https://localhost:8080/"
        },
        "id": "7Kgobqx16KQD",
        "outputId": "4e8b7dd7-1f06-4733-f462-2fbdbcc1ff3c"
      },
      "execution_count": null,
      "outputs": [
        {
          "output_type": "execute_result",
          "data": {
            "text/plain": [
              "torch.Size([1, 2048, 20, 20])"
            ]
          },
          "metadata": {},
          "execution_count": 11
        }
      ]
    },
    {
      "cell_type": "code",
      "source": [
        "extra = nn.Conv2d(in_channels=2048, out_channels=256, kernel_size=3, stride=2, padding=1)\n",
        "p6 = extra(c5)\n",
        "p6.shape"
      ],
      "metadata": {
        "colab": {
          "base_uri": "https://localhost:8080/"
        },
        "id": "c9SoZHon6OZb",
        "outputId": "b4aa8e57-6b82-4520-f8c4-684bf504ffe1"
      },
      "execution_count": null,
      "outputs": [
        {
          "output_type": "execute_result",
          "data": {
            "text/plain": [
              "torch.Size([1, 256, 10, 10])"
            ]
          },
          "metadata": {},
          "execution_count": 12
        }
      ]
    },
    {
      "cell_type": "code",
      "source": [
        "# Convert all to 256 channels through lateral connections"
      ],
      "metadata": {
        "id": "24xz9DGJ7u8W"
      },
      "execution_count": null,
      "outputs": []
    },
    {
      "cell_type": "code",
      "source": [
        "lat_c2 = nn.Conv2d(in_channels=256, out_channels=256, kernel_size=1, stride=1)\n",
        "lat_c2(c2).shape"
      ],
      "metadata": {
        "colab": {
          "base_uri": "https://localhost:8080/"
        },
        "id": "RDILwhEe9yyk",
        "outputId": "f1cdcebd-fd7a-4d8a-b546-651098cbd7cf"
      },
      "execution_count": null,
      "outputs": [
        {
          "output_type": "execute_result",
          "data": {
            "text/plain": [
              "torch.Size([1, 256, 160, 160])"
            ]
          },
          "metadata": {},
          "execution_count": 14
        }
      ]
    },
    {
      "cell_type": "code",
      "source": [
        "shapes = [256, 512, 1024, 2048]"
      ],
      "metadata": {
        "id": "JI5ifnF9-G2-"
      },
      "execution_count": null,
      "outputs": []
    },
    {
      "cell_type": "code",
      "source": [
        "for i in range(2, 6):\n",
        "    exec(f\"lat_conn{i} = nn.Conv2d(in_channels=shapes[i-2], out_channels=256, kernel_size=1, stride=1)\")"
      ],
      "metadata": {
        "id": "Bodojb7U9615"
      },
      "execution_count": null,
      "outputs": []
    },
    {
      "cell_type": "code",
      "source": [
        "m5 = lat_conn5(c5)\n",
        "m5.shape"
      ],
      "metadata": {
        "colab": {
          "base_uri": "https://localhost:8080/"
        },
        "id": "v8OPyQmMAdes",
        "outputId": "7120b529-6db0-4ccb-b4c9-70a33fab68ec"
      },
      "execution_count": null,
      "outputs": [
        {
          "output_type": "execute_result",
          "data": {
            "text/plain": [
              "torch.Size([1, 256, 20, 20])"
            ]
          },
          "metadata": {},
          "execution_count": 17
        }
      ]
    },
    {
      "cell_type": "code",
      "source": [
        "m4 = lat_conn4(c4)+F.interpolate(m5, scale_factor=2)\n",
        "m4.shape"
      ],
      "metadata": {
        "colab": {
          "base_uri": "https://localhost:8080/"
        },
        "id": "WEDxHVN5_6hf",
        "outputId": "08fbd0f2-1302-4e1d-daf4-b8ce46b61b92"
      },
      "execution_count": null,
      "outputs": [
        {
          "output_type": "execute_result",
          "data": {
            "text/plain": [
              "torch.Size([1, 256, 40, 40])"
            ]
          },
          "metadata": {},
          "execution_count": 18
        }
      ]
    },
    {
      "cell_type": "code",
      "source": [
        "m3 = lat_conn3(c3)+F.interpolate(m4, scale_factor=2)\n",
        "m3.shape"
      ],
      "metadata": {
        "colab": {
          "base_uri": "https://localhost:8080/"
        },
        "id": "WukSZrDoBSqG",
        "outputId": "5f9d9d81-3b71-434a-adac-f31e5e37a894"
      },
      "execution_count": null,
      "outputs": [
        {
          "output_type": "execute_result",
          "data": {
            "text/plain": [
              "torch.Size([1, 256, 80, 80])"
            ]
          },
          "metadata": {},
          "execution_count": 19
        }
      ]
    },
    {
      "cell_type": "code",
      "source": [
        "m2 = lat_conn2(c2)+F.interpolate(m3, scale_factor=2)\n",
        "m2.shape"
      ],
      "metadata": {
        "colab": {
          "base_uri": "https://localhost:8080/"
        },
        "id": "A3ehF-i9BX0E",
        "outputId": "e755bec2-de8e-4a61-b7c2-e0528de31fbc"
      },
      "execution_count": null,
      "outputs": [
        {
          "output_type": "execute_result",
          "data": {
            "text/plain": [
              "torch.Size([1, 256, 160, 160])"
            ]
          },
          "metadata": {},
          "execution_count": 20
        }
      ]
    },
    {
      "cell_type": "code",
      "source": [
        "nn.Conv2d(in_channels=256, out_channels=256, kernel_size=3, padding=1)(m2).shape"
      ],
      "metadata": {
        "colab": {
          "base_uri": "https://localhost:8080/"
        },
        "id": "xQYsXPhvBbLe",
        "outputId": "f69e698d-5953-4be9-ac55-2add1eb4c753"
      },
      "execution_count": null,
      "outputs": [
        {
          "output_type": "execute_result",
          "data": {
            "text/plain": [
              "torch.Size([1, 256, 160, 160])"
            ]
          },
          "metadata": {},
          "execution_count": 21
        }
      ]
    },
    {
      "cell_type": "code",
      "source": [
        "class FPN(nn.Module):\n",
        "    def __init__(self):\n",
        "        super().__init__()\n",
        "\n",
        "        resnet50 = torchvision.models.resnet50(weights=torchvision.models.ResNet50_Weights.DEFAULT)\n",
        "        self.backbone = nn.Sequential(*list(resnet50.children())[:-2])\n",
        "\n",
        "        # Lateral Connections\n",
        "        self.lat_conn2 = nn.Conv2d(256, 256, 1, stride=1)\n",
        "        self.lat_conn3 = nn.Conv2d(512, 256, 1, stride=1)\n",
        "        self.lat_conn4 = nn.Conv2d(1024, 256, 1, stride=1)\n",
        "        self.lat_conn5 = nn.Conv2d(2048, 256, 1, stride=1)\n",
        "\n",
        "        # Smoothing Conv layers\n",
        "        self.p2_conv = nn.Conv2d(256, 256, 3, padding=1)\n",
        "        self.p3_conv = nn.Conv2d(256, 256, 3, padding=1)\n",
        "        self.p4_conv = nn.Conv2d(256, 256, 3, padding=1)\n",
        "        self.p5_conv = nn.Conv2d(256, 256, 3, padding=1)\n",
        "\n",
        "        self.p6_conv = nn.Conv2d(2048, 256, 3, stride=2, padding=1)\n",
        "        nn.init.xavier_uniform_(self.p6_conv.weight)\n",
        "        if self.p6_conv.bias is not None:\n",
        "            nn.init.zeros_(self.p6_conv.bias)\n",
        "\n",
        "    def forward(self, x: Image) -> Tuple[torch.Tensor]:\n",
        "        \"\"\"\n",
        "        Forward pass to compute the FPN feature maps.\n",
        "\n",
        "        Args:\n",
        "            x (Image): Input image tensor of shape (B, C, H, W).\n",
        "\n",
        "        Returns:\n",
        "            Tuple[Tensor]: Multi-scale feature maps (P2, P3, P4, P5, P6).\n",
        "        \"\"\"\n",
        "        # Bottom-Up pathway\n",
        "        c2 = self.backbone[:5](x) # Output from layer 1\n",
        "        c3 = self.backbone[5](c2) # Output from layer 2\n",
        "        c4 = self.backbone[6](c3) # Output from layer 3\n",
        "        c5 = self.backbone[7](c4) # Output from layer 4\n",
        "\n",
        "        # Top-Down pathway\n",
        "        m5 = self.lat_conn5(c5)\n",
        "        m4 = self.lat_conn4(c4)+F.interpolate(m5, scale_factor=2, mode=\"nearest\")\n",
        "        m3 = self.lat_conn3(c3)+F.interpolate(m4, scale_factor=2, mode=\"nearest\")\n",
        "        m2 = self.lat_conn2(c2)+F.interpolate(m3, scale_factor=2, mode=\"nearest\")\n",
        "\n",
        "        # Smoothing\n",
        "        p2 = self.p2_conv(m2)\n",
        "        p3 = self.p3_conv(m3)\n",
        "        p4 = self.p4_conv(m4)\n",
        "        p5 = self.p5_conv(m5)\n",
        "        p6 = self.p6_conv(c5)\n",
        "\n",
        "        return p2, p3, p4, p5, p6"
      ],
      "metadata": {
        "id": "o2lRjQvtB0J5"
      },
      "execution_count": null,
      "outputs": []
    },
    {
      "cell_type": "code",
      "source": [
        "fpn = FPN()"
      ],
      "metadata": {
        "id": "_m3-pwS6Lhx6",
        "colab": {
          "base_uri": "https://localhost:8080/"
        },
        "outputId": "5c1ccc98-6e87-4ca4-83cb-30e9c2e7b15d"
      },
      "execution_count": null,
      "outputs": [
        {
          "output_type": "stream",
          "name": "stderr",
          "text": [
            "Downloading: \"https://download.pytorch.org/models/resnet50-11ad3fa6.pth\" to /root/.cache/torch/hub/checkpoints/resnet50-11ad3fa6.pth\n",
            "100%|██████████| 97.8M/97.8M [00:01<00:00, 85.0MB/s]\n"
          ]
        }
      ]
    },
    {
      "cell_type": "code",
      "source": [
        "maps = fpn(img)"
      ],
      "metadata": {
        "id": "SzoxZUlYTwlw"
      },
      "execution_count": null,
      "outputs": []
    },
    {
      "cell_type": "code",
      "source": [
        "for m in maps:\n",
        "    print(m.shape)"
      ],
      "metadata": {
        "colab": {
          "base_uri": "https://localhost:8080/"
        },
        "id": "UyDc9tv2Tzjs",
        "outputId": "611b21ec-eb12-4975-ec9b-d569f2bfa11d"
      },
      "execution_count": null,
      "outputs": [
        {
          "output_type": "stream",
          "name": "stdout",
          "text": [
            "torch.Size([1, 256, 160, 160])\n",
            "torch.Size([1, 256, 80, 80])\n",
            "torch.Size([1, 256, 40, 40])\n",
            "torch.Size([1, 256, 20, 20])\n",
            "torch.Size([1, 256, 10, 10])\n"
          ]
        }
      ]
    },
    {
      "cell_type": "code",
      "source": [
        "torch.tensor([1, 2]) == torch.Tensor([1, 2])"
      ],
      "metadata": {
        "id": "KvxaAklyT3jU",
        "colab": {
          "base_uri": "https://localhost:8080/"
        },
        "outputId": "763ad0d3-a927-4e87-8b6c-6a1e5710809d"
      },
      "execution_count": null,
      "outputs": [
        {
          "output_type": "execute_result",
          "data": {
            "text/plain": [
              "tensor([True, True])"
            ]
          },
          "metadata": {},
          "execution_count": 26
        }
      ]
    },
    {
      "cell_type": "code",
      "source": [
        "from torchvision.transforms import v2\n",
        "type(v2.ToImage()(img))"
      ],
      "metadata": {
        "colab": {
          "base_uri": "https://localhost:8080/"
        },
        "id": "n53v1HI1zXM5",
        "outputId": "dc586a7d-f862-4120-cc25-ba37dde01443"
      },
      "execution_count": null,
      "outputs": [
        {
          "output_type": "execute_result",
          "data": {
            "text/plain": [
              "torchvision.tv_tensors._image.Image"
            ]
          },
          "metadata": {},
          "execution_count": 27
        }
      ]
    },
    {
      "cell_type": "markdown",
      "source": [
        "#Anchor Boxes"
      ],
      "metadata": {
        "id": "TJIzjK0711Ca"
      }
    },
    {
      "cell_type": "code",
      "source": [
        "for m in maps:\n",
        "    print(m.shape)"
      ],
      "metadata": {
        "colab": {
          "base_uri": "https://localhost:8080/"
        },
        "id": "v4ZaG81a3RHM",
        "outputId": "bdd798f0-4310-4eb4-9826-3629d49cb1d7"
      },
      "execution_count": null,
      "outputs": [
        {
          "output_type": "stream",
          "name": "stdout",
          "text": [
            "torch.Size([1, 256, 160, 160])\n",
            "torch.Size([1, 256, 80, 80])\n",
            "torch.Size([1, 256, 40, 40])\n",
            "torch.Size([1, 256, 20, 20])\n",
            "torch.Size([1, 256, 10, 10])\n"
          ]
        }
      ]
    },
    {
      "cell_type": "code",
      "source": [
        "step = 2**(1/3)\n",
        "step"
      ],
      "metadata": {
        "colab": {
          "base_uri": "https://localhost:8080/"
        },
        "id": "K-qTmeSz5IJ8",
        "outputId": "143c51ab-6c87-47f4-e783-fdb988a01fd5"
      },
      "execution_count": null,
      "outputs": [
        {
          "output_type": "execute_result",
          "data": {
            "text/plain": [
              "1.2599210498948732"
            ]
          },
          "metadata": {},
          "execution_count": 12
        }
      ]
    },
    {
      "cell_type": "code",
      "source": [
        "strides = torch.tensor([4, 8, 16, 32, 64])"
      ],
      "metadata": {
        "id": "cRhbBtNU3VUt"
      },
      "execution_count": null,
      "outputs": []
    },
    {
      "cell_type": "code",
      "source": [
        "size1 = strides*4\n",
        "size1"
      ],
      "metadata": {
        "colab": {
          "base_uri": "https://localhost:8080/"
        },
        "id": "0RWQSzkX5BbQ",
        "outputId": "1463ddc2-78df-4b32-de3f-4d865daca5c2"
      },
      "execution_count": null,
      "outputs": [
        {
          "output_type": "execute_result",
          "data": {
            "text/plain": [
              "tensor([ 16,  32,  64, 128, 256])"
            ]
          },
          "metadata": {},
          "execution_count": 14
        }
      ]
    },
    {
      "cell_type": "code",
      "source": [
        "size2 = size1 * step\n",
        "size2"
      ],
      "metadata": {
        "colab": {
          "base_uri": "https://localhost:8080/"
        },
        "id": "Nqp8qhO35W1A",
        "outputId": "58977e9e-6e6d-41b1-a8e7-ec5cea4b7a60"
      },
      "execution_count": null,
      "outputs": [
        {
          "output_type": "execute_result",
          "data": {
            "text/plain": [
              "tensor([ 20.1587,  40.3175,  80.6349, 161.2699, 322.5398])"
            ]
          },
          "metadata": {},
          "execution_count": 15
        }
      ]
    },
    {
      "cell_type": "code",
      "source": [
        "size3 = size2 * step\n",
        "size3"
      ],
      "metadata": {
        "colab": {
          "base_uri": "https://localhost:8080/"
        },
        "id": "JuxpUur55htf",
        "outputId": "7b3526ae-4298-4b42-eebf-217d29d8cbec"
      },
      "execution_count": null,
      "outputs": [
        {
          "output_type": "execute_result",
          "data": {
            "text/plain": [
              "tensor([ 25.3984,  50.7968, 101.5937, 203.1873, 406.3747])"
            ]
          },
          "metadata": {},
          "execution_count": 17
        }
      ]
    },
    {
      "cell_type": "code",
      "source": [
        "anchor_sizes = torch.stack([size1, size2, size3]).T/640\n",
        "anchor_sizes"
      ],
      "metadata": {
        "colab": {
          "base_uri": "https://localhost:8080/"
        },
        "id": "G7lz-9VMDcPY",
        "outputId": "ee37c643-f84c-41bd-cd8e-e0e7603f3a4f"
      },
      "execution_count": null,
      "outputs": [
        {
          "output_type": "execute_result",
          "data": {
            "text/plain": [
              "tensor([[0.0250, 0.0315, 0.0397],\n",
              "        [0.0500, 0.0630, 0.0794],\n",
              "        [0.1000, 0.1260, 0.1587],\n",
              "        [0.2000, 0.2520, 0.3175],\n",
              "        [0.4000, 0.5040, 0.6350]])"
            ]
          },
          "metadata": {},
          "execution_count": 43
        }
      ]
    },
    {
      "cell_type": "code",
      "source": [
        "map_sizes = torch.tensor([m.shape[-1] for m in maps])\n",
        "map_sizes"
      ],
      "metadata": {
        "colab": {
          "base_uri": "https://localhost:8080/"
        },
        "id": "cyb09qrw6EYa",
        "outputId": "e72032ab-b7db-4250-8c39-e6001af854ab"
      },
      "execution_count": null,
      "outputs": [
        {
          "output_type": "execute_result",
          "data": {
            "text/plain": [
              "tensor([160,  80,  40,  20,  10])"
            ]
          },
          "metadata": {},
          "execution_count": 82
        }
      ]
    },
    {
      "cell_type": "code",
      "source": [
        "n_dbox = 3"
      ],
      "metadata": {
        "id": "qRF7lDvzA5ui"
      },
      "execution_count": null,
      "outputs": []
    },
    {
      "cell_type": "code",
      "source": [
        "landmark_template = torch.tensor([\n",
        "    [0.3, 0.4],  # Left eye\n",
        "    [0.7, 0.4],  # Right eye\n",
        "    [0.5, 0.55], # Nose\n",
        "    [0.35, 0.75], # Left mouth corner\n",
        "    [0.65, 0.75]  # Right mouth corner\n",
        "])"
      ],
      "metadata": {
        "id": "jozeUVZbcPSw"
      },
      "execution_count": null,
      "outputs": []
    },
    {
      "cell_type": "code",
      "source": [
        "(landmark_template * anchor_sizes[-1][1])[:, 0]"
      ],
      "metadata": {
        "colab": {
          "base_uri": "https://localhost:8080/"
        },
        "id": "fDi4w8mABGvN",
        "outputId": "ab60c265-9749-49a0-979c-ecb435edbccf"
      },
      "execution_count": null,
      "outputs": [
        {
          "output_type": "execute_result",
          "data": {
            "text/plain": [
              "tensor([0.1512, 0.3528, 0.2520, 0.1764, 0.3276])"
            ]
          },
          "metadata": {},
          "execution_count": 76
        }
      ]
    },
    {
      "cell_type": "code",
      "source": [
        "def create_anchors(map_sizes, anchor_sizes, if_landmarks=False):\n",
        "    anchors_per_map = []\n",
        "    landmarks_per_map = []\n",
        "    for size, anchor_size in zip(map_sizes, anchor_sizes):\n",
        "        anchors = []\n",
        "        landmarks = []\n",
        "        for i in range(size):\n",
        "            for j in range(size):\n",
        "                center_x = (i+0.5)/size\n",
        "                center_y = (j+0.5)/size\n",
        "                for sz in anchor_size:\n",
        "                    anchors.append([center_x, center_y, sz, sz])\n",
        "\n",
        "                    if if_landmarks:\n",
        "                        scaled_landmarks = landmark_template * sz\n",
        "                        scaled_landmarks[:, 0] += center_x\n",
        "                        scaled_landmarks[:, 1] += center_y\n",
        "                        landmarks.append(scaled_landmarks.tolist())\n",
        "\n",
        "        anchors_per_map.append(torch.tensor(anchors, dtype=torch.float32))\n",
        "        if if_landmarks:\n",
        "            landmarks_per_map.append(torch.tensor(landmarks, dtype=torch.float32))\n",
        "\n",
        "    if if_landmarks:\n",
        "        return (anchors_per_map, landmarks_per_map)\n",
        "    else:\n",
        "        return anchors_per_map"
      ],
      "metadata": {
        "id": "Gr_B966DBM2l"
      },
      "execution_count": null,
      "outputs": []
    },
    {
      "cell_type": "code",
      "source": [
        "anchors_per_map, landmarks_per_map = create_anchors(map_sizes, anchor_sizes, if_landmarks=True)"
      ],
      "metadata": {
        "id": "TPzFrKCuaZRa"
      },
      "execution_count": null,
      "outputs": []
    },
    {
      "cell_type": "code",
      "source": [
        "for i in range(5):\n",
        "    print(anchors_per_map[i].shape)"
      ],
      "metadata": {
        "colab": {
          "base_uri": "https://localhost:8080/"
        },
        "id": "zKPSk6KWQe15",
        "outputId": "32efeccd-51ee-45de-ca5a-8882103ab99c"
      },
      "execution_count": null,
      "outputs": [
        {
          "output_type": "stream",
          "name": "stdout",
          "text": [
            "torch.Size([76800, 4])\n",
            "torch.Size([19200, 4])\n",
            "torch.Size([4800, 4])\n",
            "torch.Size([1200, 4])\n",
            "torch.Size([300, 4])\n"
          ]
        }
      ]
    },
    {
      "cell_type": "code",
      "source": [
        "for i in range(5):\n",
        "    print(landmarks_per_map[i].shape)"
      ],
      "metadata": {
        "colab": {
          "base_uri": "https://localhost:8080/"
        },
        "id": "Hyy1JBuZhyoL",
        "outputId": "d6f461ba-49ca-473f-b644-5f370bc04f49"
      },
      "execution_count": null,
      "outputs": [
        {
          "output_type": "stream",
          "name": "stdout",
          "text": [
            "torch.Size([76800, 5, 2])\n",
            "torch.Size([19200, 5, 2])\n",
            "torch.Size([4800, 5, 2])\n",
            "torch.Size([1200, 5, 2])\n",
            "torch.Size([300, 5, 2])\n"
          ]
        }
      ]
    },
    {
      "cell_type": "code",
      "source": [
        "torch.tensor(map_sizes)**2*3"
      ],
      "metadata": {
        "colab": {
          "base_uri": "https://localhost:8080/"
        },
        "id": "7xSJYtzEUPDt",
        "outputId": "546ee230-a79e-418b-aa5c-820757e859ab"
      },
      "execution_count": null,
      "outputs": [
        {
          "output_type": "execute_result",
          "data": {
            "text/plain": [
              "tensor([76800, 19200,  4800,  1200,   300])"
            ]
          },
          "metadata": {},
          "execution_count": 46
        }
      ]
    },
    {
      "cell_type": "code",
      "source": [
        "dboxes_per_map[3][16]"
      ],
      "metadata": {
        "colab": {
          "base_uri": "https://localhost:8080/"
        },
        "id": "d7Lo26ZEY60Q",
        "outputId": "b41f303a-9fbb-4f56-cc1c-d820a202b779"
      },
      "execution_count": null,
      "outputs": [
        {
          "output_type": "execute_result",
          "data": {
            "text/plain": [
              "tensor([0.0250, 0.2750, 0.2520, 0.2520])"
            ]
          },
          "metadata": {},
          "execution_count": 52
        }
      ]
    },
    {
      "cell_type": "code",
      "source": [
        "all_anchors = torch.cat(anchors_per_map)\n",
        "all_anchors.shape"
      ],
      "metadata": {
        "colab": {
          "base_uri": "https://localhost:8080/"
        },
        "id": "s64N5tpji3Td",
        "outputId": "4b8fca02-aa7f-4e84-88b2-eb20f6ecdeee"
      },
      "execution_count": null,
      "outputs": [
        {
          "output_type": "execute_result",
          "data": {
            "text/plain": [
              "torch.Size([102300, 4])"
            ]
          },
          "metadata": {},
          "execution_count": 96
        }
      ]
    },
    {
      "cell_type": "code",
      "source": [
        "all_landmarks = torch.stack([landmark_template]*all_anchors.shape[0])\n",
        "all_landmarks.shape"
      ],
      "metadata": {
        "colab": {
          "base_uri": "https://localhost:8080/"
        },
        "id": "q3vHB0Cki_p8",
        "outputId": "e6356baf-f16a-4cfc-dca7-b2074ce3648a"
      },
      "execution_count": null,
      "outputs": [
        {
          "output_type": "execute_result",
          "data": {
            "text/plain": [
              "torch.Size([102300, 5, 2])"
            ]
          },
          "metadata": {},
          "execution_count": 114
        }
      ]
    },
    {
      "cell_type": "code",
      "source": [
        "all_landmarks = all_anchors[:, 2:].unsqueeze(1) * all_landmarks"
      ],
      "metadata": {
        "id": "rBDtHxG_kRT3"
      },
      "execution_count": null,
      "outputs": []
    },
    {
      "cell_type": "code",
      "source": [
        "all_landmarks = all_anchors[:, :2].unsqueeze(1) + all_landmarks"
      ],
      "metadata": {
        "id": "bZoD4Z0mmD3l"
      },
      "execution_count": null,
      "outputs": []
    },
    {
      "cell_type": "code",
      "source": [
        "def create_anchors(map_sizes, anchor_sizes, if_landmarks=False):\n",
        "    anchors = []\n",
        "    for size, anchor_size in zip(map_sizes, anchor_sizes):\n",
        "        for i in range(size):\n",
        "            for j in range(size):\n",
        "                center_x = (i+0.5)/size\n",
        "                center_y = (j+0.5)/size\n",
        "                for sz in anchor_size:\n",
        "                    anchors.append([center_x, center_y, sz, sz])\n",
        "\n",
        "    anchors = torch.tensor(anchors)\n",
        "\n",
        "    if not if_landmarks:\n",
        "        return anchors\n",
        "\n",
        "    n_anchors = anchors.shape[0]\n",
        "    landmarks = landmark_template.expand(n_anchors, -1, -1)\n",
        "    landmarks = anchors[:, 2:].unsqueeze(1) * landmarks\n",
        "    landmarks = anchors[:, :2].unsqueeze(1) + landmarks\n",
        "\n",
        "    return anchors, landmarks.reshape(n_anchors, 10)\n"
      ],
      "metadata": {
        "id": "u0_G5-6Hk86H"
      },
      "execution_count": null,
      "outputs": []
    },
    {
      "cell_type": "code",
      "source": [
        "all_anchors, all_landmarks = create_anchors(map_sizes, anchor_sizes, if_landmarks=True)"
      ],
      "metadata": {
        "id": "mSfC8NE-nokI"
      },
      "execution_count": null,
      "outputs": []
    },
    {
      "cell_type": "code",
      "source": [
        "all_anchors.shape, all_landmarks.shape"
      ],
      "metadata": {
        "colab": {
          "base_uri": "https://localhost:8080/"
        },
        "id": "RoRAaR1MoOB4",
        "outputId": "6c18b81c-2638-40d0-8d5a-0a72f8b58c7b"
      },
      "execution_count": null,
      "outputs": [
        {
          "output_type": "execute_result",
          "data": {
            "text/plain": [
              "(torch.Size([102300, 4]), torch.Size([102300, 10]))"
            ]
          },
          "metadata": {},
          "execution_count": 146
        }
      ]
    },
    {
      "cell_type": "markdown",
      "source": [
        "#Take 2"
      ],
      "metadata": {
        "id": "1GpHXO78r5ua"
      }
    },
    {
      "cell_type": "code",
      "source": [
        "# Make DCN class\n",
        "# Replace 3x3 Conv2d in FPN with DCN\n",
        "# Make Context Module class"
      ],
      "metadata": {
        "id": "44MdjIWluBdt"
      },
      "execution_count": null,
      "outputs": []
    },
    {
      "cell_type": "code",
      "source": [
        "# 1. DCN"
      ],
      "metadata": {
        "id": "FdncEV2QuSfD"
      },
      "execution_count": null,
      "outputs": []
    },
    {
      "cell_type": "code",
      "source": [
        "for m in maps:\n",
        "    print(m.shape)"
      ],
      "metadata": {
        "colab": {
          "base_uri": "https://localhost:8080/"
        },
        "id": "67hRJg8MupXp",
        "outputId": "5320c9c4-98df-4013-a7e4-075d4234aaa3"
      },
      "execution_count": null,
      "outputs": [
        {
          "output_type": "stream",
          "name": "stdout",
          "text": [
            "torch.Size([1, 256, 160, 160])\n",
            "torch.Size([1, 256, 80, 80])\n",
            "torch.Size([1, 256, 40, 40])\n",
            "torch.Size([1, 256, 20, 20])\n",
            "torch.Size([1, 256, 10, 10])\n"
          ]
        }
      ]
    },
    {
      "cell_type": "code",
      "source": [
        "offsets_conv = nn.Conv2d(256, 18, 3, padding=1)\n",
        "offsets_conv(maps[0]).shape"
      ],
      "metadata": {
        "colab": {
          "base_uri": "https://localhost:8080/"
        },
        "id": "2tLZ0rFVxUfW",
        "outputId": "3963c573-a54a-48bb-9055-69181db85447"
      },
      "execution_count": null,
      "outputs": [
        {
          "output_type": "execute_result",
          "data": {
            "text/plain": [
              "torch.Size([1, 18, 160, 160])"
            ]
          },
          "metadata": {},
          "execution_count": 46
        }
      ]
    },
    {
      "cell_type": "code",
      "source": [
        "dcn = DeformConv2d(256, 256, 3, padding=1)\n",
        "dcn(maps[0], offsets_conv(maps[0])).shape"
      ],
      "metadata": {
        "colab": {
          "base_uri": "https://localhost:8080/"
        },
        "id": "v998ddXpxqBg",
        "outputId": "fd4c88b7-d56b-4b76-896c-1a7b50136f8b"
      },
      "execution_count": null,
      "outputs": [
        {
          "output_type": "execute_result",
          "data": {
            "text/plain": [
              "torch.Size([1, 256, 160, 160])"
            ]
          },
          "metadata": {},
          "execution_count": 48
        }
      ]
    },
    {
      "cell_type": "code",
      "source": [
        "class DCNBlock(nn.Module):\n",
        "    def __init__(in_channels, out_channels, kernel_size, padding):\n",
        "        super().__init__()\n",
        "        o = kernel_size\n",
        "        self.offsets_conv = nn.Conv2d(in_channels, kernel_size, kernel_size, padding=padding)\n",
        "        self.dcn = DeformConv2d(in_channels, out_channels, kernel_size, padding=padding)"
      ],
      "metadata": {
        "id": "oC94oOSYygch"
      },
      "execution_count": null,
      "outputs": []
    }
  ]
}